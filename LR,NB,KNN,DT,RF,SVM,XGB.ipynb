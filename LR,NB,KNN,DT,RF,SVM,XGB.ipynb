{
  "cells": [
    {
      "cell_type": "markdown",
      "metadata": {
        "id": "view-in-github",
        "colab_type": "text"
      },
      "source": [
        "<a href=\"https://colab.research.google.com/github/MasrukHabib/Practice_of_Machine_Learning/blob/main/LR%2CNB%2CKNN%2CDT%2CRF%2CSVM%2CXGB.ipynb\" target=\"_parent\"><img src=\"https://colab.research.google.com/assets/colab-badge.svg\" alt=\"Open In Colab\"/></a>"
      ]
    },
    {
      "cell_type": "markdown",
      "metadata": {
        "id": "USsDNIDieiQ8"
      },
      "source": [
        "#Mount with Drive"
      ]
    },
    {
      "cell_type": "code",
      "execution_count": null,
      "metadata": {
        "id": "Hsz0nt2ESkHt"
      },
      "outputs": [],
      "source": [
        "from google.colab import drive\n",
        "drive.mount('/content/drive')"
      ]
    },
    {
      "cell_type": "markdown",
      "metadata": {
        "id": "pe3VO1xSen0J"
      },
      "source": [
        "#Loade the dataset and check the data"
      ]
    },
    {
      "cell_type": "code",
      "execution_count": null,
      "metadata": {
        "colab": {
          "base_uri": "https://localhost:8080/",
          "height": 226
        },
        "id": "6pKkBKZiTiL9",
        "outputId": "944601cc-38ae-4fb4-8952-c62c923c5cb7"
      },
      "outputs": [
        {
          "output_type": "execute_result",
          "data": {
            "text/plain": [
              "   A1_Score  A2_Score  A3_Score  A4_Score  A5_Score  A6_Score  A7_Score  \\\n",
              "0         1         1         0         0         1         1         0   \n",
              "1         1         1         0         0         1         1         0   \n",
              "2         1         1         0         0         0         1         1   \n",
              "3         0         1         0         0         1         1         0   \n",
              "4         1         1         1         1         1         1         1   \n",
              "\n",
              "   A8_Score  A9_Score  A10_Score  gender  jundice  austi1  result  Class/ASD  \n",
              "0         1         0          0       1        0       0       5          0  \n",
              "1         1         0          0       1        0       0       5          0  \n",
              "2         1         0          0       1        0       0       5          0  \n",
              "3         0         0          1       0        1       0       4          0  \n",
              "4         1         1          1       1        1       0      10          1  "
            ],
            "text/html": [
              "\n",
              "  <div id=\"df-2ae59631-ae2a-4935-aeda-ec518fd831e2\" class=\"colab-df-container\">\n",
              "    <div>\n",
              "<style scoped>\n",
              "    .dataframe tbody tr th:only-of-type {\n",
              "        vertical-align: middle;\n",
              "    }\n",
              "\n",
              "    .dataframe tbody tr th {\n",
              "        vertical-align: top;\n",
              "    }\n",
              "\n",
              "    .dataframe thead th {\n",
              "        text-align: right;\n",
              "    }\n",
              "</style>\n",
              "<table border=\"1\" class=\"dataframe\">\n",
              "  <thead>\n",
              "    <tr style=\"text-align: right;\">\n",
              "      <th></th>\n",
              "      <th>A1_Score</th>\n",
              "      <th>A2_Score</th>\n",
              "      <th>A3_Score</th>\n",
              "      <th>A4_Score</th>\n",
              "      <th>A5_Score</th>\n",
              "      <th>A6_Score</th>\n",
              "      <th>A7_Score</th>\n",
              "      <th>A8_Score</th>\n",
              "      <th>A9_Score</th>\n",
              "      <th>A10_Score</th>\n",
              "      <th>gender</th>\n",
              "      <th>jundice</th>\n",
              "      <th>austi1</th>\n",
              "      <th>result</th>\n",
              "      <th>Class/ASD</th>\n",
              "    </tr>\n",
              "  </thead>\n",
              "  <tbody>\n",
              "    <tr>\n",
              "      <th>0</th>\n",
              "      <td>1</td>\n",
              "      <td>1</td>\n",
              "      <td>0</td>\n",
              "      <td>0</td>\n",
              "      <td>1</td>\n",
              "      <td>1</td>\n",
              "      <td>0</td>\n",
              "      <td>1</td>\n",
              "      <td>0</td>\n",
              "      <td>0</td>\n",
              "      <td>1</td>\n",
              "      <td>0</td>\n",
              "      <td>0</td>\n",
              "      <td>5</td>\n",
              "      <td>0</td>\n",
              "    </tr>\n",
              "    <tr>\n",
              "      <th>1</th>\n",
              "      <td>1</td>\n",
              "      <td>1</td>\n",
              "      <td>0</td>\n",
              "      <td>0</td>\n",
              "      <td>1</td>\n",
              "      <td>1</td>\n",
              "      <td>0</td>\n",
              "      <td>1</td>\n",
              "      <td>0</td>\n",
              "      <td>0</td>\n",
              "      <td>1</td>\n",
              "      <td>0</td>\n",
              "      <td>0</td>\n",
              "      <td>5</td>\n",
              "      <td>0</td>\n",
              "    </tr>\n",
              "    <tr>\n",
              "      <th>2</th>\n",
              "      <td>1</td>\n",
              "      <td>1</td>\n",
              "      <td>0</td>\n",
              "      <td>0</td>\n",
              "      <td>0</td>\n",
              "      <td>1</td>\n",
              "      <td>1</td>\n",
              "      <td>1</td>\n",
              "      <td>0</td>\n",
              "      <td>0</td>\n",
              "      <td>1</td>\n",
              "      <td>0</td>\n",
              "      <td>0</td>\n",
              "      <td>5</td>\n",
              "      <td>0</td>\n",
              "    </tr>\n",
              "    <tr>\n",
              "      <th>3</th>\n",
              "      <td>0</td>\n",
              "      <td>1</td>\n",
              "      <td>0</td>\n",
              "      <td>0</td>\n",
              "      <td>1</td>\n",
              "      <td>1</td>\n",
              "      <td>0</td>\n",
              "      <td>0</td>\n",
              "      <td>0</td>\n",
              "      <td>1</td>\n",
              "      <td>0</td>\n",
              "      <td>1</td>\n",
              "      <td>0</td>\n",
              "      <td>4</td>\n",
              "      <td>0</td>\n",
              "    </tr>\n",
              "    <tr>\n",
              "      <th>4</th>\n",
              "      <td>1</td>\n",
              "      <td>1</td>\n",
              "      <td>1</td>\n",
              "      <td>1</td>\n",
              "      <td>1</td>\n",
              "      <td>1</td>\n",
              "      <td>1</td>\n",
              "      <td>1</td>\n",
              "      <td>1</td>\n",
              "      <td>1</td>\n",
              "      <td>1</td>\n",
              "      <td>1</td>\n",
              "      <td>0</td>\n",
              "      <td>10</td>\n",
              "      <td>1</td>\n",
              "    </tr>\n",
              "  </tbody>\n",
              "</table>\n",
              "</div>\n",
              "    <div class=\"colab-df-buttons\">\n",
              "\n",
              "  <div class=\"colab-df-container\">\n",
              "    <button class=\"colab-df-convert\" onclick=\"convertToInteractive('df-2ae59631-ae2a-4935-aeda-ec518fd831e2')\"\n",
              "            title=\"Convert this dataframe to an interactive table.\"\n",
              "            style=\"display:none;\">\n",
              "\n",
              "  <svg xmlns=\"http://www.w3.org/2000/svg\" height=\"24px\" viewBox=\"0 -960 960 960\">\n",
              "    <path d=\"M120-120v-720h720v720H120Zm60-500h600v-160H180v160Zm220 220h160v-160H400v160Zm0 220h160v-160H400v160ZM180-400h160v-160H180v160Zm440 0h160v-160H620v160ZM180-180h160v-160H180v160Zm440 0h160v-160H620v160Z\"/>\n",
              "  </svg>\n",
              "    </button>\n",
              "\n",
              "  <style>\n",
              "    .colab-df-container {\n",
              "      display:flex;\n",
              "      gap: 12px;\n",
              "    }\n",
              "\n",
              "    .colab-df-convert {\n",
              "      background-color: #E8F0FE;\n",
              "      border: none;\n",
              "      border-radius: 50%;\n",
              "      cursor: pointer;\n",
              "      display: none;\n",
              "      fill: #1967D2;\n",
              "      height: 32px;\n",
              "      padding: 0 0 0 0;\n",
              "      width: 32px;\n",
              "    }\n",
              "\n",
              "    .colab-df-convert:hover {\n",
              "      background-color: #E2EBFA;\n",
              "      box-shadow: 0px 1px 2px rgba(60, 64, 67, 0.3), 0px 1px 3px 1px rgba(60, 64, 67, 0.15);\n",
              "      fill: #174EA6;\n",
              "    }\n",
              "\n",
              "    .colab-df-buttons div {\n",
              "      margin-bottom: 4px;\n",
              "    }\n",
              "\n",
              "    [theme=dark] .colab-df-convert {\n",
              "      background-color: #3B4455;\n",
              "      fill: #D2E3FC;\n",
              "    }\n",
              "\n",
              "    [theme=dark] .colab-df-convert:hover {\n",
              "      background-color: #434B5C;\n",
              "      box-shadow: 0px 1px 3px 1px rgba(0, 0, 0, 0.15);\n",
              "      filter: drop-shadow(0px 1px 2px rgba(0, 0, 0, 0.3));\n",
              "      fill: #FFFFFF;\n",
              "    }\n",
              "  </style>\n",
              "\n",
              "    <script>\n",
              "      const buttonEl =\n",
              "        document.querySelector('#df-2ae59631-ae2a-4935-aeda-ec518fd831e2 button.colab-df-convert');\n",
              "      buttonEl.style.display =\n",
              "        google.colab.kernel.accessAllowed ? 'block' : 'none';\n",
              "\n",
              "      async function convertToInteractive(key) {\n",
              "        const element = document.querySelector('#df-2ae59631-ae2a-4935-aeda-ec518fd831e2');\n",
              "        const dataTable =\n",
              "          await google.colab.kernel.invokeFunction('convertToInteractive',\n",
              "                                                    [key], {});\n",
              "        if (!dataTable) return;\n",
              "\n",
              "        const docLinkHtml = 'Like what you see? Visit the ' +\n",
              "          '<a target=\"_blank\" href=https://colab.research.google.com/notebooks/data_table.ipynb>data table notebook</a>'\n",
              "          + ' to learn more about interactive tables.';\n",
              "        element.innerHTML = '';\n",
              "        dataTable['output_type'] = 'display_data';\n",
              "        await google.colab.output.renderOutput(dataTable, element);\n",
              "        const docLink = document.createElement('div');\n",
              "        docLink.innerHTML = docLinkHtml;\n",
              "        element.appendChild(docLink);\n",
              "      }\n",
              "    </script>\n",
              "  </div>\n",
              "\n",
              "\n",
              "<div id=\"df-72f7efb2-e011-482b-a271-788e626e9ee5\">\n",
              "  <button class=\"colab-df-quickchart\" onclick=\"quickchart('df-72f7efb2-e011-482b-a271-788e626e9ee5')\"\n",
              "            title=\"Suggest charts\"\n",
              "            style=\"display:none;\">\n",
              "\n",
              "<svg xmlns=\"http://www.w3.org/2000/svg\" height=\"24px\"viewBox=\"0 0 24 24\"\n",
              "     width=\"24px\">\n",
              "    <g>\n",
              "        <path d=\"M19 3H5c-1.1 0-2 .9-2 2v14c0 1.1.9 2 2 2h14c1.1 0 2-.9 2-2V5c0-1.1-.9-2-2-2zM9 17H7v-7h2v7zm4 0h-2V7h2v10zm4 0h-2v-4h2v4z\"/>\n",
              "    </g>\n",
              "</svg>\n",
              "  </button>\n",
              "\n",
              "<style>\n",
              "  .colab-df-quickchart {\n",
              "      --bg-color: #E8F0FE;\n",
              "      --fill-color: #1967D2;\n",
              "      --hover-bg-color: #E2EBFA;\n",
              "      --hover-fill-color: #174EA6;\n",
              "      --disabled-fill-color: #AAA;\n",
              "      --disabled-bg-color: #DDD;\n",
              "  }\n",
              "\n",
              "  [theme=dark] .colab-df-quickchart {\n",
              "      --bg-color: #3B4455;\n",
              "      --fill-color: #D2E3FC;\n",
              "      --hover-bg-color: #434B5C;\n",
              "      --hover-fill-color: #FFFFFF;\n",
              "      --disabled-bg-color: #3B4455;\n",
              "      --disabled-fill-color: #666;\n",
              "  }\n",
              "\n",
              "  .colab-df-quickchart {\n",
              "    background-color: var(--bg-color);\n",
              "    border: none;\n",
              "    border-radius: 50%;\n",
              "    cursor: pointer;\n",
              "    display: none;\n",
              "    fill: var(--fill-color);\n",
              "    height: 32px;\n",
              "    padding: 0;\n",
              "    width: 32px;\n",
              "  }\n",
              "\n",
              "  .colab-df-quickchart:hover {\n",
              "    background-color: var(--hover-bg-color);\n",
              "    box-shadow: 0 1px 2px rgba(60, 64, 67, 0.3), 0 1px 3px 1px rgba(60, 64, 67, 0.15);\n",
              "    fill: var(--button-hover-fill-color);\n",
              "  }\n",
              "\n",
              "  .colab-df-quickchart-complete:disabled,\n",
              "  .colab-df-quickchart-complete:disabled:hover {\n",
              "    background-color: var(--disabled-bg-color);\n",
              "    fill: var(--disabled-fill-color);\n",
              "    box-shadow: none;\n",
              "  }\n",
              "\n",
              "  .colab-df-spinner {\n",
              "    border: 2px solid var(--fill-color);\n",
              "    border-color: transparent;\n",
              "    border-bottom-color: var(--fill-color);\n",
              "    animation:\n",
              "      spin 1s steps(1) infinite;\n",
              "  }\n",
              "\n",
              "  @keyframes spin {\n",
              "    0% {\n",
              "      border-color: transparent;\n",
              "      border-bottom-color: var(--fill-color);\n",
              "      border-left-color: var(--fill-color);\n",
              "    }\n",
              "    20% {\n",
              "      border-color: transparent;\n",
              "      border-left-color: var(--fill-color);\n",
              "      border-top-color: var(--fill-color);\n",
              "    }\n",
              "    30% {\n",
              "      border-color: transparent;\n",
              "      border-left-color: var(--fill-color);\n",
              "      border-top-color: var(--fill-color);\n",
              "      border-right-color: var(--fill-color);\n",
              "    }\n",
              "    40% {\n",
              "      border-color: transparent;\n",
              "      border-right-color: var(--fill-color);\n",
              "      border-top-color: var(--fill-color);\n",
              "    }\n",
              "    60% {\n",
              "      border-color: transparent;\n",
              "      border-right-color: var(--fill-color);\n",
              "    }\n",
              "    80% {\n",
              "      border-color: transparent;\n",
              "      border-right-color: var(--fill-color);\n",
              "      border-bottom-color: var(--fill-color);\n",
              "    }\n",
              "    90% {\n",
              "      border-color: transparent;\n",
              "      border-bottom-color: var(--fill-color);\n",
              "    }\n",
              "  }\n",
              "</style>\n",
              "\n",
              "  <script>\n",
              "    async function quickchart(key) {\n",
              "      const quickchartButtonEl =\n",
              "        document.querySelector('#' + key + ' button');\n",
              "      quickchartButtonEl.disabled = true;  // To prevent multiple clicks.\n",
              "      quickchartButtonEl.classList.add('colab-df-spinner');\n",
              "      try {\n",
              "        const charts = await google.colab.kernel.invokeFunction(\n",
              "            'suggestCharts', [key], {});\n",
              "      } catch (error) {\n",
              "        console.error('Error during call to suggestCharts:', error);\n",
              "      }\n",
              "      quickchartButtonEl.classList.remove('colab-df-spinner');\n",
              "      quickchartButtonEl.classList.add('colab-df-quickchart-complete');\n",
              "    }\n",
              "    (() => {\n",
              "      let quickchartButtonEl =\n",
              "        document.querySelector('#df-72f7efb2-e011-482b-a271-788e626e9ee5 button');\n",
              "      quickchartButtonEl.style.display =\n",
              "        google.colab.kernel.accessAllowed ? 'block' : 'none';\n",
              "    })();\n",
              "  </script>\n",
              "</div>\n",
              "\n",
              "    </div>\n",
              "  </div>\n"
            ],
            "application/vnd.google.colaboratory.intrinsic+json": {
              "type": "dataframe",
              "variable_name": "df",
              "summary": "{\n  \"name\": \"df\",\n  \"rows\": 292,\n  \"fields\": [\n    {\n      \"column\": \"A1_Score\",\n      \"properties\": {\n        \"dtype\": \"number\",\n        \"std\": 0,\n        \"min\": 0,\n        \"max\": 1,\n        \"num_unique_values\": 2,\n        \"samples\": [\n          0,\n          1\n        ],\n        \"semantic_type\": \"\",\n        \"description\": \"\"\n      }\n    },\n    {\n      \"column\": \"A2_Score\",\n      \"properties\": {\n        \"dtype\": \"number\",\n        \"std\": 0,\n        \"min\": 0,\n        \"max\": 1,\n        \"num_unique_values\": 2,\n        \"samples\": [\n          0,\n          1\n        ],\n        \"semantic_type\": \"\",\n        \"description\": \"\"\n      }\n    },\n    {\n      \"column\": \"A3_Score\",\n      \"properties\": {\n        \"dtype\": \"number\",\n        \"std\": 0,\n        \"min\": 0,\n        \"max\": 1,\n        \"num_unique_values\": 2,\n        \"samples\": [\n          1,\n          0\n        ],\n        \"semantic_type\": \"\",\n        \"description\": \"\"\n      }\n    },\n    {\n      \"column\": \"A4_Score\",\n      \"properties\": {\n        \"dtype\": \"number\",\n        \"std\": 0,\n        \"min\": 0,\n        \"max\": 1,\n        \"num_unique_values\": 2,\n        \"samples\": [\n          1,\n          0\n        ],\n        \"semantic_type\": \"\",\n        \"description\": \"\"\n      }\n    },\n    {\n      \"column\": \"A5_Score\",\n      \"properties\": {\n        \"dtype\": \"number\",\n        \"std\": 0,\n        \"min\": 0,\n        \"max\": 1,\n        \"num_unique_values\": 2,\n        \"samples\": [\n          0,\n          1\n        ],\n        \"semantic_type\": \"\",\n        \"description\": \"\"\n      }\n    },\n    {\n      \"column\": \"A6_Score\",\n      \"properties\": {\n        \"dtype\": \"number\",\n        \"std\": 0,\n        \"min\": 0,\n        \"max\": 1,\n        \"num_unique_values\": 2,\n        \"samples\": [\n          0,\n          1\n        ],\n        \"semantic_type\": \"\",\n        \"description\": \"\"\n      }\n    },\n    {\n      \"column\": \"A7_Score\",\n      \"properties\": {\n        \"dtype\": \"number\",\n        \"std\": 0,\n        \"min\": 0,\n        \"max\": 1,\n        \"num_unique_values\": 2,\n        \"samples\": [\n          1,\n          0\n        ],\n        \"semantic_type\": \"\",\n        \"description\": \"\"\n      }\n    },\n    {\n      \"column\": \"A8_Score\",\n      \"properties\": {\n        \"dtype\": \"number\",\n        \"std\": 0,\n        \"min\": 0,\n        \"max\": 1,\n        \"num_unique_values\": 2,\n        \"samples\": [\n          0,\n          1\n        ],\n        \"semantic_type\": \"\",\n        \"description\": \"\"\n      }\n    },\n    {\n      \"column\": \"A9_Score\",\n      \"properties\": {\n        \"dtype\": \"number\",\n        \"std\": 0,\n        \"min\": 0,\n        \"max\": 1,\n        \"num_unique_values\": 2,\n        \"samples\": [\n          1,\n          0\n        ],\n        \"semantic_type\": \"\",\n        \"description\": \"\"\n      }\n    },\n    {\n      \"column\": \"A10_Score\",\n      \"properties\": {\n        \"dtype\": \"number\",\n        \"std\": 0,\n        \"min\": 0,\n        \"max\": 1,\n        \"num_unique_values\": 2,\n        \"samples\": [\n          1,\n          0\n        ],\n        \"semantic_type\": \"\",\n        \"description\": \"\"\n      }\n    },\n    {\n      \"column\": \"gender\",\n      \"properties\": {\n        \"dtype\": \"number\",\n        \"std\": 0,\n        \"min\": 0,\n        \"max\": 1,\n        \"num_unique_values\": 2,\n        \"samples\": [\n          0,\n          1\n        ],\n        \"semantic_type\": \"\",\n        \"description\": \"\"\n      }\n    },\n    {\n      \"column\": \"jundice\",\n      \"properties\": {\n        \"dtype\": \"number\",\n        \"std\": 0,\n        \"min\": 0,\n        \"max\": 1,\n        \"num_unique_values\": 2,\n        \"samples\": [\n          1,\n          0\n        ],\n        \"semantic_type\": \"\",\n        \"description\": \"\"\n      }\n    },\n    {\n      \"column\": \"austi1\",\n      \"properties\": {\n        \"dtype\": \"number\",\n        \"std\": 0,\n        \"min\": 0,\n        \"max\": 1,\n        \"num_unique_values\": 2,\n        \"samples\": [\n          1,\n          0\n        ],\n        \"semantic_type\": \"\",\n        \"description\": \"\"\n      }\n    },\n    {\n      \"column\": \"result\",\n      \"properties\": {\n        \"dtype\": \"number\",\n        \"std\": 2,\n        \"min\": 0,\n        \"max\": 10,\n        \"num_unique_values\": 11,\n        \"samples\": [\n          3,\n          5\n        ],\n        \"semantic_type\": \"\",\n        \"description\": \"\"\n      }\n    },\n    {\n      \"column\": \"Class/ASD\",\n      \"properties\": {\n        \"dtype\": \"number\",\n        \"std\": 0,\n        \"min\": 0,\n        \"max\": 1,\n        \"num_unique_values\": 2,\n        \"samples\": [\n          1,\n          0\n        ],\n        \"semantic_type\": \"\",\n        \"description\": \"\"\n      }\n    }\n  ]\n}"
            }
          },
          "metadata": {},
          "execution_count": 2
        }
      ],
      "source": [
        "import pandas as pd\n",
        "df = pd.read_csv(\"/content/Autism_Child_Data.csv\")\n",
        "df.head()"
      ]
    },
    {
      "cell_type": "code",
      "execution_count": null,
      "metadata": {
        "id": "nUNZa-dKAtL9"
      },
      "outputs": [],
      "source": [
        "# Define feature matrix X and target vector y\n",
        "X = df.drop('Class/ASD', axis=1)\n",
        "y = df['Class/ASD']"
      ]
    },
    {
      "cell_type": "code",
      "execution_count": null,
      "metadata": {
        "id": "MQCGY9WQAs-E"
      },
      "outputs": [],
      "source": [
        "from sklearn.model_selection import train_test_split\n",
        "X_train, X_test, y_train, y_test = train_test_split(X, y, test_size=0.4, random_state=42)"
      ]
    },
    {
      "cell_type": "code",
      "execution_count": null,
      "metadata": {
        "colab": {
          "base_uri": "https://localhost:8080/"
        },
        "id": "EioGQ6eCBDwI",
        "outputId": "2c94e338-e586-47cc-eb6d-8b25bdff1087"
      },
      "outputs": [
        {
          "output_type": "stream",
          "name": "stdout",
          "text": [
            "Class Distribution:\n",
            "Class/ASD\n",
            "0    151\n",
            "1    141\n",
            "Name: count, dtype: int64\n",
            "The data is balanced.\n"
          ]
        }
      ],
      "source": [
        "import pandas as pd\n",
        "\n",
        "# Calculate class distribution\n",
        "class_distribution = df['Class/ASD'].value_counts()\n",
        "\n",
        "# Print class distribution\n",
        "print(\"Class Distribution:\")\n",
        "print(class_distribution)\n",
        "\n",
        "# Check if data is balanced\n",
        "balanced = class_distribution.min() / class_distribution.max() >= 0.5\n",
        "# Print the result\n",
        "if balanced:\n",
        "    print(\"The data is balanced.\")\n",
        "else:\n",
        "    print(\"The data is imbalanced.\")"
      ]
    },
    {
      "cell_type": "code",
      "execution_count": null,
      "metadata": {
        "colab": {
          "base_uri": "https://localhost:8080/",
          "height": 523
        },
        "id": "DUOMvAw_AqEQ",
        "outputId": "0b4f9752-5db1-4b50-b13b-c3ef0cabdfac"
      },
      "outputs": [
        {
          "output_type": "display_data",
          "data": {
            "text/plain": [
              "<Figure size 1000x500 with 1 Axes>"
            ],
            "image/png": "[encoded data removed]"
          },
          "metadata": {}
        }
      ],
      "source": [
        "import numpy as np\n",
        "import matplotlib.pyplot as plt\n",
        "\n",
        "# Plotting the balance of the target variable\n",
        "plt.figure(figsize=(10, 5))\n",
        "\n",
        "# Pie chart\n",
        "plt.subplot(1, 2, 2)\n",
        "y.value_counts().plot.pie(autopct='%1.1f%%', colors=['skyblue', 'lightgreen'])\n",
        "plt.title('Class Distribution')\n",
        "plt.ylabel('')  # Hide y-label for the pie chart\n",
        "\n",
        "plt.tight_layout()\n",
        "plt.show()"
      ]
    },
    {
      "cell_type": "markdown",
      "source": [
        "#Using Logistic Regression"
      ],
      "metadata": {
        "id": "XqINRj7rIYPl"
      }
    },
    {
      "cell_type": "code",
      "execution_count": null,
      "metadata": {
        "colab": {
          "base_uri": "https://localhost:8080/"
        },
        "id": "Y_QHtTsDBJKf",
        "outputId": "6cc2a787-fa54-4387-bf84-6d4bc7fd5911"
      },
      "outputs": [
        {
          "output_type": "stream",
          "name": "stdout",
          "text": [
            "LogisticRegression - Testing Evaluation\n",
            "[[63  0]\n",
            " [ 0 54]]\n",
            "              precision    recall  f1-score   support\n",
            "\n",
            "           0       1.00      1.00      1.00        63\n",
            "           1       1.00      1.00      1.00        54\n",
            "\n",
            "    accuracy                           1.00       117\n",
            "   macro avg       1.00      1.00      1.00       117\n",
            "weighted avg       1.00      1.00      1.00       117\n",
            "\n",
            "LogisticRegression - Traing Evaluation\n",
            "[[88  0]\n",
            " [ 0 87]]\n",
            "              precision    recall  f1-score   support\n",
            "\n",
            "           0       1.00      1.00      1.00        88\n",
            "           1       1.00      1.00      1.00        87\n",
            "\n",
            "    accuracy                           1.00       175\n",
            "   macro avg       1.00      1.00      1.00       175\n",
            "weighted avg       1.00      1.00      1.00       175\n",
            "\n"
          ]
        }
      ],
      "source": [
        "# Import necessary libraries\n",
        "from sklearn.linear_model import LogisticRegression\n",
        "from sklearn.metrics import confusion_matrix\n",
        "import matplotlib.pyplot as plt\n",
        "import seaborn as sns\n",
        "\n",
        "# Initialize and train the classifier\n",
        "classifier = LogisticRegression()\n",
        "classifier.fit(X_train, y_train)\n",
        "\n",
        "print('LogisticRegression - Testing Evaluation')\n",
        "\n",
        "# Predict the labels for the test set\n",
        "y_pred_test = classifier.predict(X_test)\n",
        "\n",
        "# Calculate confusion matrix for Tesing\n",
        "cm_LR_Test = confusion_matrix(y_test, y_pred_test)\n",
        "print(cm_LR_Test)\n",
        "\n",
        "#Confusion Matrix Evaluation Metrics\n",
        "from sklearn.metrics import classification_report\n",
        "print(classification_report(y_test, y_pred_test))\n",
        "\n",
        "\n",
        "print('LogisticRegression - Traing Evaluation')\n",
        "# Predict the labels for the train\n",
        "y_pred_train = classifier.predict(X_train)\n",
        "\n",
        "# Calculate confusion matrix for Train\n",
        "cm_LR_Train = confusion_matrix(y_train, y_pred_train)\n",
        "print(cm_LR_Train)\n",
        "\n",
        "#Confusion Matrix Evaluation Metrics\n",
        "from sklearn.metrics import classification_report\n",
        "print(classification_report(y_train, y_pred_train))\n"
      ]
    },
    {
      "cell_type": "markdown",
      "source": [
        "#Using Naive Bayes"
      ],
      "metadata": {
        "id": "7kRc8l9craZF"
      }
    },
    {
      "cell_type": "code",
      "source": [
        "from sklearn.naive_bayes import GaussianNB\n",
        "from sklearn.metrics import accuracy_score, classification_report\n",
        "\n",
        "# Initialize the Naive Bayes model\n",
        "nb_model = GaussianNB()\n",
        "\n",
        "# Train the model\n",
        "nb_model.fit(X_train, y_train)\n",
        "\n",
        "\n",
        "print('GaussianNB - Testing Evaluation')\n",
        "# Make predictions\n",
        "y_pred_test = nb_model.predict(X_test)\n",
        "\n",
        "# Calculate confusion matrix for Tesing\n",
        "cm_NB_Test = confusion_matrix(y_test, y_pred_test)\n",
        "print(cm_NB_Test)\n",
        "\n",
        "#Confusion Matrix Evaluation Metrics\n",
        "from sklearn.metrics import classification_report\n",
        "print(classification_report(y_test, y_pred_test))\n",
        "\n",
        "\n",
        "print('GaussianNB - Traing Evaluation')\n",
        "# Predict the labels for the train set\n",
        "y_pred_train = classifier.predict(X_train)\n",
        "\n",
        "# Calculate confusion matrix for Train\n",
        "cm_NB_Train = confusion_matrix(y_train, y_pred_train)\n",
        "print(cm_NB_Train)\n",
        "\n",
        "#Confusion Matrix Evaluation Metrics\n",
        "from sklearn.metrics import classification_report\n",
        "print(classification_report(y_train, y_pred_train))\n"
      ],
      "metadata": {
        "colab": {
          "base_uri": "https://localhost:8080/"
        },
        "id": "YfYcKXvFquYa",
        "outputId": "489982f0-13ff-46a0-cfad-c29457b5ec18"
      },
      "execution_count": null,
      "outputs": [
        {
          "output_type": "stream",
          "name": "stdout",
          "text": [
            "GaussianNB - Testing Evaluation\n",
            "[[61  2]\n",
            " [ 5 49]]\n",
            "              precision    recall  f1-score   support\n",
            "\n",
            "           0       0.92      0.97      0.95        63\n",
            "           1       0.96      0.91      0.93        54\n",
            "\n",
            "    accuracy                           0.94       117\n",
            "   macro avg       0.94      0.94      0.94       117\n",
            "weighted avg       0.94      0.94      0.94       117\n",
            "\n",
            "GaussianNB - Traing Evaluation\n",
            "[[88  0]\n",
            " [ 0 87]]\n",
            "              precision    recall  f1-score   support\n",
            "\n",
            "           0       1.00      1.00      1.00        88\n",
            "           1       1.00      1.00      1.00        87\n",
            "\n",
            "    accuracy                           1.00       175\n",
            "   macro avg       1.00      1.00      1.00       175\n",
            "weighted avg       1.00      1.00      1.00       175\n",
            "\n"
          ]
        }
      ]
    },
    {
      "cell_type": "markdown",
      "source": [
        "# Using KNN"
      ],
      "metadata": {
        "id": "M7EnI53gsajS"
      }
    },
    {
      "cell_type": "code",
      "source": [
        "from sklearn.neighbors import KNeighborsClassifier\n",
        "from sklearn.metrics import accuracy_score, classification_report\n",
        "# Initialize the KNN model\n",
        "knn_model = KNeighborsClassifier(n_neighbors=8)\n",
        "\n",
        "# Train the model\n",
        "knn_model.fit(X_train, y_train)\n",
        "\n",
        "print('KNN - Testing Evaluation')\n",
        "# Make predictions\n",
        "y_pred_test = knn_model.predict(X_test)\n",
        "\n",
        "# Calculate confusion matrix for Tesing\n",
        "cm_KNN_Test = confusion_matrix(y_test, y_pred_test)\n",
        "print(cm_KNN_Test)\n",
        "\n",
        "#Confusion Matrix Evaluation Metrics\n",
        "from sklearn.metrics import classification_report\n",
        "print(classification_report(y_test, y_pred_test))\n",
        "\n",
        "\n",
        "print('KNN - Traing Evaluation')\n",
        "# Predict the labels for the train set\n",
        "y_pred_train = classifier.predict(X_train)\n",
        "\n",
        "# Calculate confusion matrix for Train\n",
        "cm_KNN_Train = confusion_matrix(y_train, y_pred_train)\n",
        "print(cm_KNN_Train)\n",
        "\n",
        "#Confusion Matrix Evaluation Metrics\n",
        "from sklearn.metrics import classification_report\n",
        "print(classification_report(y_train, y_pred_train))"
      ],
      "metadata": {
        "colab": {
          "base_uri": "https://localhost:8080/"
        },
        "id": "E7umnOdbquSU",
        "outputId": "e5ed0096-6e3f-4e63-ffaa-0ef023c115dd"
      },
      "execution_count": null,
      "outputs": [
        {
          "output_type": "stream",
          "name": "stdout",
          "text": [
            "KNN - Testing Evaluation\n",
            "[[62  1]\n",
            " [ 0 54]]\n",
            "              precision    recall  f1-score   support\n",
            "\n",
            "           0       1.00      0.98      0.99        63\n",
            "           1       0.98      1.00      0.99        54\n",
            "\n",
            "    accuracy                           0.99       117\n",
            "   macro avg       0.99      0.99      0.99       117\n",
            "weighted avg       0.99      0.99      0.99       117\n",
            "\n",
            "KNN - Traing Evaluation\n",
            "[[88  0]\n",
            " [ 0 87]]\n",
            "              precision    recall  f1-score   support\n",
            "\n",
            "           0       1.00      1.00      1.00        88\n",
            "           1       1.00      1.00      1.00        87\n",
            "\n",
            "    accuracy                           1.00       175\n",
            "   macro avg       1.00      1.00      1.00       175\n",
            "weighted avg       1.00      1.00      1.00       175\n",
            "\n"
          ]
        }
      ]
    },
    {
      "cell_type": "markdown",
      "source": [
        "#Using DT"
      ],
      "metadata": {
        "id": "-4YctCiws83Y"
      }
    },
    {
      "cell_type": "code",
      "source": [
        "from sklearn.tree import DecisionTreeClassifier\n",
        "from sklearn.metrics import accuracy_score, classification_report\n",
        "\n",
        "# Initialize the Decision Tree model\n",
        "dt_model = DecisionTreeClassifier(random_state=42)\n",
        "\n",
        "# Train the model\n",
        "dt_model.fit(X_train, y_train)\n",
        "\n",
        "print('DecisionTree - Testing Evaluation')\n",
        "# Make predictions\n",
        "y_pred_test = dt_model.predict(X_test)\n",
        "\n",
        "# Calculate confusion matrix for Tesing\n",
        "cm_DT_Test = confusion_matrix(y_test, y_pred_test)\n",
        "print(cm_DT_Test)\n",
        "\n",
        "#Confusion Matrix Evaluation Metrics\n",
        "from sklearn.metrics import classification_report\n",
        "print(classification_report(y_test, y_pred_test))\n",
        "\n",
        "\n",
        "print('DecisionTree - Traing Evaluation')\n",
        "# Predict the labels for the train set\n",
        "y_pred_train = classifier.predict(X_train)\n",
        "\n",
        "# Calculate confusion matrix for Train\n",
        "cm_DT_Train = confusion_matrix(y_train, y_pred_train)\n",
        "print(cm_DT_Train)\n",
        "\n",
        "#Confusion Matrix Evaluation Metrics\n",
        "from sklearn.metrics import classification_report\n",
        "print(classification_report(y_train, y_pred_train))"
      ],
      "metadata": {
        "colab": {
          "base_uri": "https://localhost:8080/"
        },
        "id": "dQQtModpryck",
        "outputId": "5fb3deae-bcfd-4f9c-88c6-0727a546d4bf"
      },
      "execution_count": null,
      "outputs": [
        {
          "output_type": "stream",
          "name": "stdout",
          "text": [
            "DecisionTree - Testing Evaluation\n",
            "[[63  0]\n",
            " [ 0 54]]\n",
            "              precision    recall  f1-score   support\n",
            "\n",
            "           0       1.00      1.00      1.00        63\n",
            "           1       1.00      1.00      1.00        54\n",
            "\n",
            "    accuracy                           1.00       117\n",
            "   macro avg       1.00      1.00      1.00       117\n",
            "weighted avg       1.00      1.00      1.00       117\n",
            "\n",
            "DecisionTree - Traing Evaluation\n",
            "[[88  0]\n",
            " [ 0 87]]\n",
            "              precision    recall  f1-score   support\n",
            "\n",
            "           0       1.00      1.00      1.00        88\n",
            "           1       1.00      1.00      1.00        87\n",
            "\n",
            "    accuracy                           1.00       175\n",
            "   macro avg       1.00      1.00      1.00       175\n",
            "weighted avg       1.00      1.00      1.00       175\n",
            "\n"
          ]
        }
      ]
    },
    {
      "cell_type": "markdown",
      "source": [
        "#Using RF"
      ],
      "metadata": {
        "id": "08A-fNPztUhR"
      }
    },
    {
      "cell_type": "code",
      "source": [
        "from sklearn.ensemble import RandomForestClassifier\n",
        "from sklearn.metrics import accuracy_score, classification_report\n",
        "# Initialize the Random Forest model\n",
        "rf_model = RandomForestClassifier(n_estimators=100, random_state=42)\n",
        "\n",
        "# Train the model\n",
        "rf_model.fit(X_train, y_train)\n",
        "\n",
        "\n",
        "print('RandomForest - Testing Evaluation')\n",
        "# Make predictions\n",
        "y_pred_test = rf_model.predict(X_test)\n",
        "\n",
        "# Calculate confusion matrix for Tesing\n",
        "cm_rf_Test = confusion_matrix(y_test, y_pred_test)\n",
        "print(cm_rf_Test)\n",
        "\n",
        "#Confusion Matrix Evaluation Metrics\n",
        "from sklearn.metrics import classification_report\n",
        "print(classification_report(y_test, y_pred_test))\n",
        "\n",
        "\n",
        "print('RandomForest - Traing Evaluation')\n",
        "# Predict the labels for the train set\n",
        "y_pred_train = classifier.predict(X_train)\n",
        "\n",
        "# Calculate confusion matrix for Train\n",
        "cm_rf_Train = confusion_matrix(y_train, y_pred_train)\n",
        "print(cm_rf_Train)\n",
        "\n",
        "#Confusion Matrix Evaluation Metrics\n",
        "from sklearn.metrics import classification_report\n",
        "print(classification_report(y_train, y_pred_train))\n"
      ],
      "metadata": {
        "colab": {
          "base_uri": "https://localhost:8080/"
        },
        "id": "nFoiDw_qryMp",
        "outputId": "ff438fc5-b85a-42de-9515-aec37cd1a2f5"
      },
      "execution_count": null,
      "outputs": [
        {
          "output_type": "stream",
          "name": "stdout",
          "text": [
            "RandomForest - Testing Evaluation\n",
            "[[63  0]\n",
            " [ 0 54]]\n",
            "              precision    recall  f1-score   support\n",
            "\n",
            "           0       1.00      1.00      1.00        63\n",
            "           1       1.00      1.00      1.00        54\n",
            "\n",
            "    accuracy                           1.00       117\n",
            "   macro avg       1.00      1.00      1.00       117\n",
            "weighted avg       1.00      1.00      1.00       117\n",
            "\n",
            "RandomForest - Traing Evaluation\n",
            "[[88  0]\n",
            " [ 0 87]]\n",
            "              precision    recall  f1-score   support\n",
            "\n",
            "           0       1.00      1.00      1.00        88\n",
            "           1       1.00      1.00      1.00        87\n",
            "\n",
            "    accuracy                           1.00       175\n",
            "   macro avg       1.00      1.00      1.00       175\n",
            "weighted avg       1.00      1.00      1.00       175\n",
            "\n"
          ]
        }
      ]
    },
    {
      "cell_type": "markdown",
      "source": [
        "#Using SVM"
      ],
      "metadata": {
        "id": "bUOxZyLeHVAv"
      }
    },
    {
      "cell_type": "code",
      "source": [
        "from sklearn.svm import SVC\n",
        "from sklearn.metrics import accuracy_score, classification_report\n",
        "\n",
        "# Initialize the SVM model\n",
        "svm_model = SVC(kernel='linear', random_state=42)\n",
        "\n",
        "# Train the model\n",
        "svm_model.fit(X_train, y_train)\n",
        "\n",
        "\n",
        "print('SVM - Testing Evaluation')\n",
        "# Make predictions\n",
        "y_pred_test = svm_model.predict(X_test)\n",
        "\n",
        "# Calculate confusion matrix for Tesing\n",
        "cm_svm_Test = confusion_matrix(y_test, y_pred_test)\n",
        "print(cm_svm_Test)\n",
        "\n",
        "#Confusion Matrix Evaluation Metrics\n",
        "from sklearn.metrics import classification_report\n",
        "print(classification_report(y_test, y_pred_test))\n",
        "\n",
        "\n",
        "print('SVM - Traing Evaluation')\n",
        "# Predict the labels for the train set\n",
        "y_pred_train = classifier.predict(X_train)\n",
        "\n",
        "# Calculate confusion matrix for Train\n",
        "cm_svm_Train = confusion_matrix(y_train, y_pred_train)\n",
        "print(cm_svm_Train)\n",
        "\n",
        "#Confusion Matrix Evaluation Metrics\n",
        "from sklearn.metrics import classification_report\n",
        "print(classification_report(y_train, y_pred_train))\n"
      ],
      "metadata": {
        "colab": {
          "base_uri": "https://localhost:8080/"
        },
        "id": "LXIZaWVFthvn",
        "outputId": "3cca6963-3b5f-4ba2-cc76-d4f5bb43e9c4"
      },
      "execution_count": null,
      "outputs": [
        {
          "output_type": "stream",
          "name": "stdout",
          "text": [
            "SVM - Testing Evaluation\n",
            "[[63  0]\n",
            " [ 0 54]]\n",
            "              precision    recall  f1-score   support\n",
            "\n",
            "           0       1.00      1.00      1.00        63\n",
            "           1       1.00      1.00      1.00        54\n",
            "\n",
            "    accuracy                           1.00       117\n",
            "   macro avg       1.00      1.00      1.00       117\n",
            "weighted avg       1.00      1.00      1.00       117\n",
            "\n",
            "SVM - Traing Evaluation\n",
            "[[88  0]\n",
            " [ 0 87]]\n",
            "              precision    recall  f1-score   support\n",
            "\n",
            "           0       1.00      1.00      1.00        88\n",
            "           1       1.00      1.00      1.00        87\n",
            "\n",
            "    accuracy                           1.00       175\n",
            "   macro avg       1.00      1.00      1.00       175\n",
            "weighted avg       1.00      1.00      1.00       175\n",
            "\n"
          ]
        }
      ]
    },
    {
      "cell_type": "markdown",
      "source": [
        "#Using XGBoost"
      ],
      "metadata": {
        "id": "55Ffi0jnHsrp"
      }
    },
    {
      "cell_type": "code",
      "source": [
        "import xgboost as xgb\n",
        "from sklearn.metrics import accuracy_score, classification_report\n",
        "\n",
        "# Initialize the XGBoost model\n",
        "xgb_model = xgb.XGBClassifier(use_label_encoder=False, eval_metric='mlogloss', random_state=42)\n",
        "\n",
        "# Train the model\n",
        "xgb_model.fit(X_train, y_train)\n",
        "\n",
        "\n",
        "print('XGBoost - Testing Evaluation')\n",
        "# Make predictions\n",
        "y_pred_test = xgb_model.predict(X_test)\n",
        "\n",
        "# Calculate confusion matrix for Tesing\n",
        "cm_xgb_Test = confusion_matrix(y_test, y_pred_test)\n",
        "print(cm_xgb_Test)\n",
        "\n",
        "#Confusion Matrix Evaluation Metrics\n",
        "from sklearn.metrics import classification_report\n",
        "print(classification_report(y_test, y_pred_test))\n",
        "\n",
        "\n",
        "print('XGBoost - Traing Evaluation')\n",
        "# Predict the labels for the train set\n",
        "y_pred_train = classifier.predict(X_train)\n",
        "\n",
        "# Calculate confusion matrix for Train\n",
        "cm_xgb_Train = confusion_matrix(y_train, y_pred_train)\n",
        "print(cm_xgb_Train)\n",
        "\n",
        "#Confusion Matrix Evaluation Metrics\n",
        "from sklearn.metrics import classification_report\n",
        "print(classification_report(y_train, y_pred_train))\n"
      ],
      "metadata": {
        "colab": {
          "base_uri": "https://localhost:8080/"
        },
        "id": "EPeXraEh1vl4",
        "outputId": "d5bd2ff2-0d81-46b8-d794-ff0603da320e"
      },
      "execution_count": null,
      "outputs": [
        {
          "output_type": "stream",
          "name": "stdout",
          "text": [
            "XGBoost - Testing Evaluation\n",
            "[[63  0]\n",
            " [ 0 54]]\n",
            "              precision    recall  f1-score   support\n",
            "\n",
            "           0       1.00      1.00      1.00        63\n",
            "           1       1.00      1.00      1.00        54\n",
            "\n",
            "    accuracy                           1.00       117\n",
            "   macro avg       1.00      1.00      1.00       117\n",
            "weighted avg       1.00      1.00      1.00       117\n",
            "\n",
            "XGBoost - Traing Evaluation\n",
            "[[88  0]\n",
            " [ 0 87]]\n",
            "              precision    recall  f1-score   support\n",
            "\n",
            "           0       1.00      1.00      1.00        88\n",
            "           1       1.00      1.00      1.00        87\n",
            "\n",
            "    accuracy                           1.00       175\n",
            "   macro avg       1.00      1.00      1.00       175\n",
            "weighted avg       1.00      1.00      1.00       175\n",
            "\n"
          ]
        },
        {
          "output_type": "stream",
          "name": "stderr",
          "text": [
            "/usr/local/lib/python3.10/dist-packages/xgboost/core.py:158: UserWarning: [02:32:49] WARNING: /workspace/src/learner.cc:740: \n",
            "Parameters: { \"use_label_encoder\" } are not used.\n",
            "\n",
            "  warnings.warn(smsg, UserWarning)\n"
          ]
        }
      ]
    }
  ],
  "metadata": {
    "colab": {
      "provenance": [],
      "include_colab_link": true
    },
    "kernelspec": {
      "display_name": "Python 3",
      "name": "python3"
    },
    "language_info": {
      "name": "python"
    }
  },
  "nbformat": 4,
  "nbformat_minor": 0
}